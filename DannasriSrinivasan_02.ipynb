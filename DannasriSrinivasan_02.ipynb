{
 "cells": [
  {
   "cell_type": "markdown",
   "id": "f2cca170",
   "metadata": {},
   "source": [
    "## Question 1:\n",
    "Logic:\n",
    "1. After opening the file, iterating all the line in the file and checking whether the line starts with \"From:\" if so i'm splitting the line and taking the email address and storing in email list.\n",
    "2. To remove repeated emails, i created an empty list and inside for loop, i'm checking whether the new list contains the email or not. If not it will be added into new list.\n",
    "3. Finally, I used nested for loop, first i'm taking a list without repeated values and in nested for loop i'm taking the orginal list with all emails. If new and old contains same email, I initialized a count and it will increment each time if both are equal and finally printing the email and the count value."
   ]
  },
  {
   "cell_type": "code",
   "execution_count": 1,
   "id": "e059800c",
   "metadata": {},
   "outputs": [
    {
     "name": "stdout",
     "output_type": "stream",
     "text": [
      "Output:\n",
      "Here is the list of contacts:\n",
      "stephen.marquard@uct.ac.za 2 times\n",
      "louis@media.berkeley.edu 3 times\n",
      "zqian@umich.edu 4 times\n",
      "rjlowe@iupui.edu 2 times\n",
      "cwen@iupui.edu 5 times\n",
      "gsilver@umich.edu 3 times\n",
      "wagnermr@iupui.edu 1 times\n",
      "antranig@caret.cam.ac.uk 1 times\n",
      "gopal.ramasammycook@gmail.com 1 times\n",
      "david.horwitz@uct.ac.za 4 times\n",
      "ray@media.berkeley.edu 1 times\n"
     ]
    }
   ],
   "source": [
    "myfile = open('mbox-short.txt')\n",
    "email = []\n",
    "for line in myfile:\n",
    "    if line.startswith('From:'):\n",
    "        val = line.split()\n",
    "        email.append(val[1])\n",
    "\n",
    "finalEmailList = []\n",
    "for i in email:\n",
    "    if i not in finalEmailList:\n",
    "        finalEmailList.append(i)\n",
    "\n",
    "print('Output:')\n",
    "print('Here is the list of contacts:')\n",
    "for i in finalEmailList:\n",
    "    count = 0\n",
    "    for j in email:\n",
    "        if i == j:\n",
    "            count = count + 1\n",
    "    print(str(i)+ \" \" +str(count)+ \" times\")"
   ]
  },
  {
   "cell_type": "markdown",
   "id": "66090165",
   "metadata": {},
   "source": [
    "## Question 2:\n",
    "Logic:\n",
    "1. charCheck() func: for the input letter, it should contains single character and it should be alphabet.\n",
    "2. punctuationCheck() func: To remove all punctuation in the input string. If the input contains any punctuation, then it will be replaced by empty value.\n",
    "3. Converting the input string into list.\n",
    "4. Now comparing each word in the input string with the input letter. First getting the index of last second letter by subtracting 2 with the len of the word. Then comparing that letter with the input letter, if its same then we are incrementing the count var and printing finally.\n"
   ]
  },
  {
   "cell_type": "code",
   "execution_count": 2,
   "id": "6a52396e",
   "metadata": {},
   "outputs": [
    {
     "name": "stdout",
     "output_type": "stream",
     "text": [
      "Input text = When the sun rises at dawn, the CHICKEN flies into the window\n",
      "Input letter = e\n",
      "Output = \"The letter e has appeared 4 times as the second last letter of a word.\"\n"
     ]
    }
   ],
   "source": [
    "def charCheck(inputStr):\n",
    "    booleanCheck = True;\n",
    "    while(booleanCheck):\n",
    "        try:\n",
    "            inp = str(input(inputStr))\n",
    "            inpChar = list(inp)\n",
    "            if(not(len(inpChar) == 1 and str(inpChar[0]).isalpha())):\n",
    "                raise Exception(\"Error: Please enter a single Character\")\n",
    "            else:\n",
    "                return inpChar\n",
    "        except:\n",
    "            print('Error: Please enter a single Character')\n",
    "            \n",
    "def punctuationCheck(inputStr):\n",
    "    puncCheck = '''!()-[]{};:'\"\\,<>./?@#$%^&*_~'''\n",
    "    for i in inputStr:\n",
    "        if i in puncCheck:\n",
    "            inputStr = inputStr.replace(i, \"\")\n",
    "    textWords = inputStr.split()\n",
    "    return textWords\n",
    "\n",
    "count = 0\n",
    "textStr = str(input('Input text = '))\n",
    "charStr = charCheck('Input letter = ')\n",
    "textStrLower = textStr.lower()\n",
    "charStrLower = str(charStr[0]).lower()\n",
    "newTextWords = punctuationCheck(textStrLower)\n",
    "for word in newTextWords:\n",
    "    wordLen = len(word)\n",
    "    seclet = word[wordLen-2]\n",
    "    if(wordLen > 2 and seclet == charStrLower):\n",
    "        count = count + 1\n",
    "print('Output = \"The letter ' +str(charStr[0])+ ' has appeared '+str(count)+' times as the second last letter of a word.\"')"
   ]
  },
  {
   "cell_type": "markdown",
   "id": "65ada6f8",
   "metadata": {},
   "source": [
    "## Question 3:\n",
    "Logic:\n",
    "1. choiceCheck() func: This func will check the input should be greater than 2 or the input should contain either \"odd\" or \"even\".\n",
    "2. Then taking the index val with range of string length. If the index is divisible by 2, then storing the char in even else in odd. If the input is integer greater than 2, then incrementing the index and checking whether the index is divisible by the input and storing the char.\n"
   ]
  },
  {
   "cell_type": "code",
   "execution_count": 3,
   "id": "4795a664",
   "metadata": {},
   "outputs": [
    {
     "name": "stdout",
     "output_type": "stream",
     "text": [
      "Input string = Python\n",
      "Input choice = even\n",
      "Output =  Pto\n"
     ]
    }
   ],
   "source": [
    "def choiceCheck(inputStr):\n",
    "    booleanCheck = True;\n",
    "    while(booleanCheck):\n",
    "        inp1 = str(input(inputStr))\n",
    "        inp = inp1.lower()\n",
    "        try:\n",
    "            inpStr = int(inp)\n",
    "            if(inpStr > 2):\n",
    "                return inpStr\n",
    "            else:\n",
    "                print('Error: Enter either \"odd\" or \"even\" or integer greater than 2')\n",
    "        except:\n",
    "            if(inp.isalpha() and (inp == \"odd\" or inp == \"even\")):\n",
    "                return inp\n",
    "            else:\n",
    "                print('Error: Enter either \"odd\" or \"even\" or integer greater than 2')\n",
    "                \n",
    "inpStr = str(input('Input string = '))\n",
    "inpChoice = choiceCheck('Input choice = ')\n",
    "index = 0\n",
    "odd_string = ''\n",
    "even_string = ''\n",
    "int_string = ''\n",
    "for index in range(len(inpStr)):\n",
    "    if index % 2 != 0:\n",
    "        odd_string = odd_string+(inpStr[index])\n",
    "    else:\n",
    "        even_string = even_string+ (inpStr[index])\n",
    "if(inpChoice == \"odd\"):\n",
    "    print(\"Output = \",str(odd_string))\n",
    "elif(inpChoice == \"even\"):\n",
    "    print(\"Output = \",str(even_string))\n",
    "else:\n",
    "    intInpChoice = int(inpChoice)\n",
    "    for index in range(len(inpStr)):\n",
    "        newIn = index + 1\n",
    "        if newIn % intInpChoice != 0:\n",
    "            int_string = int_string + (inpStr[index])\n",
    "    print(\"Output = \", str(int_string))"
   ]
  },
  {
   "cell_type": "markdown",
   "id": "c2acb9a7",
   "metadata": {},
   "source": [
    "## Question 4:\n",
    "Logic:\n",
    "1. stringCheck() func: To check the string contains only alphabets and returning error if not.\n",
    "2. intCheck() func: to check the shift input should contain only integer.\n",
    "3. Storing all alphabets in the list with index of 0 to 25. Taking each word in the string and in nested for loop, taking each char in the word. Then we identify the index of the current string. After we add the shift input with the index and applying modulo operator. This will be inbetween 0 to 25 index. Each letter will be replaced by new index and each word will be added in the new list. Finally printing each word in the list in the string format."
   ]
  },
  {
   "cell_type": "code",
   "execution_count": 5,
   "id": "88af3d1b",
   "metadata": {},
   "outputs": [
    {
     "name": "stdout",
     "output_type": "stream",
     "text": [
      "Secret message = When the sun rises at dawn the CHICKEN flies into the window\n",
      "Shift = 7\n",
      "Each letter is shifted 7 places to the left in alphabetical order.\n",
      "Secret output:\n",
      "dolu aol zbu ypzlz ha khdu aol jopjrlu msplz puav aol dpukvd \n"
     ]
    }
   ],
   "source": [
    "def stringCheck(inputStr):\n",
    "    booleanCheck = True;\n",
    "    while(booleanCheck):\n",
    "        try:\n",
    "            inp = str(input(inputStr))\n",
    "            inpChar = inp.lower().split()\n",
    "            for i in inpChar:\n",
    "                if(not(str(i).isalpha())):\n",
    "                    raise Exception(\"Error: Please enter a only string Character\")\n",
    "            return inpChar\n",
    "        except:\n",
    "            print(\"Error: Please enter a only string Character\")\n",
    "            \n",
    "def intCheck(inputStr):\n",
    "    booleanCheck = True;\n",
    "    while(booleanCheck):\n",
    "        try:\n",
    "            inp = int(input(inputStr))\n",
    "            return inp\n",
    "        except:\n",
    "            print(\"Error: Enter only integer\")\n",
    "\n",
    "inpStr = stringCheck('Secret message = ')\n",
    "inpShift = intCheck('Shift = ')\n",
    "alphaCheck = ['a', 'b', 'c', 'd', 'e', 'f', 'g', 'h', 'i', 'j', 'k', 'l', 'm', 'n', 'o', 'p', 'q', 'r', 's', 't', 'u', 'v', 'w', 'x', 'y', 'z']\n",
    "newList = []\n",
    "for word in inpStr:\n",
    "    newWord = ''\n",
    "    for i in word:\n",
    "        curIndex = list(alphaCheck).index(i)\n",
    "        movIndex = (curIndex + inpShift) % 26\n",
    "        newWord = newWord + (alphaCheck[movIndex])\n",
    "    newList.append(newWord)\n",
    "printStr = ''\n",
    "for i in newList:\n",
    "    printStr = printStr + str(i) + \" \" \n",
    "print('Each letter is shifted ' +str(inpShift)+ ' places to the left in alphabetical order.')\n",
    "print('Secret output:')\n",
    "print(printStr)"
   ]
  },
  {
   "cell_type": "markdown",
   "id": "70532acb",
   "metadata": {},
   "source": [
    "## Question 5:\n",
    "Logic:\n",
    "1. intCheck() func: To check the input should be integer.\n",
    "2. listCheck() func: It will take the list values separated by space based on the input integer.\n",
    "3. Using nested for loop, I appened the list1 and list2 values and stored in new list\n",
    "\n",
    "Note: I'm not sure about the values we need to store inside list. so i implemented two method one to accept only single Character and other one to accept String(int, string, character, float). There are two listCheck() func are there. first one to check String and the second one to check single Character.\n"
   ]
  },
  {
   "cell_type": "code",
   "execution_count": 6,
   "id": "269f48a9",
   "metadata": {},
   "outputs": [
    {
     "name": "stdout",
     "output_type": "stream",
     "text": [
      "How many elements? 4\n",
      "Enter list values separated by space: \n",
      "List 1 = a s d f\n",
      "List 2 = q w e r\n",
      "NewList:  ['aq', 'aw', 'ae', 'ar', 'sq', 'sw', 'se', 'sr', 'dq', 'dw', 'de', 'dr', 'fq', 'fw', 'fe', 'fr']\n"
     ]
    }
   ],
   "source": [
    "def intCheck(inputStr):\n",
    "    booleanCheck = True;\n",
    "    while(booleanCheck):\n",
    "        try:\n",
    "            inp = int(input(inputStr))\n",
    "            return inp\n",
    "        except:\n",
    "            print(\"Error: Enter only integer\")\n",
    "\n",
    "#def listCheck(inputStr, inpEle):\n",
    "#    booleanCheck = True;\n",
    "#    while(booleanCheck):\n",
    "#        inpList = list(str(num) for num in input(inputStr).strip().split())\n",
    "#        if(not(len(inpList) == inpEle)):\n",
    "#            print('Error: Please enter only ' +str(inpEle)+ ' values inside list separated by space')\n",
    "#        else:\n",
    "#            return inpList\n",
    "        \n",
    "def listCheck(inputStr, inpEle):\n",
    "    booleanCheck = True;\n",
    "    while(booleanCheck):\n",
    "        booleanReturnCheck = True;\n",
    "        inpList = list(str(num) for num in input(inputStr).strip().split())\n",
    "        if((len(inpList) == inpEle)):   \n",
    "            for i in inpList:\n",
    "                if(not(len(i) == 1 and i.isalpha())):\n",
    "                    print('Error: Enter only single Character ')\n",
    "                    booleanReturnCheck = False\n",
    "                    break;\n",
    "            if(booleanReturnCheck):\n",
    "                return inpList\n",
    "        else:\n",
    "            print('Error: Please enter only ' +str(inpEle)+ ' values inside list separated by space')\n",
    "        \n",
    "        \n",
    "inpEle = intCheck('How many elements? ')  \n",
    "print(\"Enter list values separated by space: \")\n",
    "inpList1 = listCheck(\"List 1 = \", inpEle)\n",
    "inpList2 = listCheck(\"List 2 = \", inpEle)\n",
    "\n",
    "newList = []\n",
    "for i in inpList1:\n",
    "    for j in inpList2:\n",
    "        newVal = i + j\n",
    "        newList.append(newVal)\n",
    "        \n",
    "print('NewList: ', newList)"
   ]
  }
 ],
 "metadata": {
  "kernelspec": {
   "display_name": "Python 3 (ipykernel)",
   "language": "python",
   "name": "python3"
  },
  "language_info": {
   "codemirror_mode": {
    "name": "ipython",
    "version": 3
   },
   "file_extension": ".py",
   "mimetype": "text/x-python",
   "name": "python",
   "nbconvert_exporter": "python",
   "pygments_lexer": "ipython3",
   "version": "3.9.7"
  }
 },
 "nbformat": 4,
 "nbformat_minor": 5
}
