{
 "cells": [
  {
   "cell_type": "markdown",
   "id": "0ab2adc4",
   "metadata": {},
   "source": [
    "## Question1 \n",
    "Logic: I added if elif logic to check.\n",
    "In first if block i Concatenated string 1 and string 2 and compared with String 3\n",
    "In second elif block i Concatenated string 2 and string 1 and compared with String 3\n",
    "If both fails else will execute and it will print not equal "
   ]
  },
  {
   "cell_type": "code",
   "execution_count": 1,
   "id": "31eb24e8",
   "metadata": {},
   "outputs": [
    {
     "name": "stdout",
     "output_type": "stream",
     "text": [
      "Enter string 1: sri\n",
      "Enter string 2: danna\n",
      "Enter string 3: dannasri\n",
      "Compare string 2+1 with string 3:\n",
      "Output: They are also equal\n"
     ]
    }
   ],
   "source": [
    "str1 = str(input('Enter string 1: '))\n",
    "str2 = str(input('Enter string 2: '))\n",
    "str3 = str(input('Enter string 3: '))\n",
    "if (str1 + str2 == str3):\n",
    "    print('Compare string 1+2 with string 3:')\n",
    "    print('Output: They are equal')\n",
    "elif (str2 + str1 == str3):\n",
    "    print('Compare string 2+1 with string 3:')\n",
    "    print('Output: They are also equal')\n",
    "else:\n",
    "    print('Compare string 2+1 or 1+2 with string 3:')\n",
    "    print('Output: They are not equal')"
   ]
  },
  {
   "cell_type": "markdown",
   "id": "ec9d913e",
   "metadata": {},
   "source": [
    "## Question 2\n",
    "Logic: I used int_check function to get the input Repeatedly until its an integer.\n",
    "Deault my script will take 3 integers and based on the user input if its is 4 then the 4 input integer will be taken.\n",
    "Based on the user input(n = (3 or 4)), my script will do the following,\n",
    "1. Print average - sum of all integers / n\n",
    "2. max of 3 or 4 integers - used default max() function\n",
    "3. min of 3 or 4 integers - used default min() function\n",
    "4. median: for 3 integers: sum of all integers - max integer - min integer. for 4 integers: (sum of all integers - max integer - min integer)/2\n",
    "I used round() function to round the average and the median for 4 integers."
   ]
  },
  {
   "cell_type": "code",
   "execution_count": 29,
   "id": "ee29fd9b",
   "metadata": {},
   "outputs": [
    {
     "name": "stdout",
     "output_type": "stream",
     "text": [
      "Enter set of 3 or 4 integers: 4\n",
      "Enter first number: -10\n",
      "Enter second number: 1\n",
      "Enter third number: \n",
      "Error: You didn’t enter number\n",
      "Enter third number: 6\n",
      "Enter fourth number:-7\n",
      "The average of the four numbers is:  -3\n",
      "The maximum of the four numbers is:  6\n",
      "The minimum of the four numbers is:  -10\n",
      "The median of the four numbers is:  -3\n"
     ]
    }
   ],
   "source": [
    "def int_check(inputStr):\n",
    "    booleanCheck = True;\n",
    "    while(booleanCheck):\n",
    "        try:\n",
    "            inp = int(input(inputStr))\n",
    "            return inp\n",
    "        except:\n",
    "            print('Error: You didn’t enter number')\n",
    "\n",
    "            \n",
    "def roundCheck(a):\n",
    "    dec = a - int(a)\n",
    "    if(a >=  0 and dec >= 0.5):\n",
    "        a = int(a)+1\n",
    "        return (a)\n",
    "    elif(a < 0 and dec <= -0.5):\n",
    "        a = int(a)-1\n",
    "        return (a)\n",
    "    else:\n",
    "        return (round(a))\n",
    "    \n",
    "    \n",
    "n = int_check('Enter set of 3 or 4 integers: ')\n",
    "int1 = int_check('Enter first number: ')\n",
    "int2 = int_check('Enter second number: ')\n",
    "int3 = int_check('Enter third number: ')\n",
    "if(n == 3):\n",
    "    print('The average of the three numbers is: ', roundCheck((int1+int2+int3)/3))\n",
    "    print('The maximum of the three numbers is: ', max(int1, int2, int3))\n",
    "    print('The minimum of the three numbers is: ', min(int1, int2, int3))\n",
    "    print('The median of the three numbers is: ', (int1+int2+int3)-max(int1, int2, int3)-min(int1, int2, int3))\n",
    "if(n == 4):\n",
    "    int4 = int_check('Enter fourth number:')\n",
    "    print('The average of the four numbers is: ', roundCheck((int1+int2+int3+int4)/4))\n",
    "    print('The maximum of the four numbers is: ', max(int1, int2, int3, int4))\n",
    "    print('The minimum of the four numbers is: ', min(int1, int2, int3, int4))\n",
    "    print('The median of the four numbers is: ', roundCheck(((int1+int2+int3+int4)-max(int1, int2, int3, int4)-min(int1, int2, int3, int4))/2))\n",
    "    "
   ]
  },
  {
   "cell_type": "code",
   "execution_count": 7,
   "id": "8fc73129",
   "metadata": {},
   "outputs": [
    {
     "data": {
      "text/plain": [
       "-7"
      ]
     },
     "execution_count": 7,
     "metadata": {},
     "output_type": "execute_result"
    }
   ],
   "source": [
    "def roundCheck(a):\n",
    "    dec = a - int(a)\n",
    "    if(a >=  0 and dec >= 0.5):\n",
    "        a = int(a)+1\n",
    "        return (a)\n",
    "    elif(a < 0 and dec <= -0.5):\n",
    "        a = int(a)-1\n",
    "        return (a)\n",
    "    else:\n",
    "        return (round(a))\n",
    "    \n",
    "roundCheck(-6.6)"
   ]
  },
  {
   "cell_type": "markdown",
   "id": "c0e549b3",
   "metadata": {},
   "source": [
    "## Question 3\n",
    "Used while loop to repeatedly run this script. \n",
    "At the end of each run, the user will be prompted to ask whether they want to continue or not.\n",
    "\n",
    "Logic:  I used positive_int_check() function to get the input Repeatedly until its an integer as well as positive(>=0). If the integer is 0 or 1 its will print neither prime or composite, else for loop will begin with the range of 2 to integer(user input). If the input is divisible by any integer in the given range then my boolean flag(compositeCheck) will change to true. If my boolean flag is true then its composite else prime."
   ]
  },
  {
   "cell_type": "code",
   "execution_count": 3,
   "id": "a493c93b",
   "metadata": {},
   "outputs": [
    {
     "name": "stdout",
     "output_type": "stream",
     "text": [
      "Enter positive integer: str\n",
      "Error: You didn’t enter integer\n",
      "Enter positive integer: -10\n",
      "Error: You didn’t enter a positive integer\n",
      "Enter positive integer: 10\n",
      "It is a composite\n",
      "Do you want to continue: press y to continue or Press any key to Discontinue: y\n",
      "Enter positive integer: 7\n",
      "It is a prime\n",
      "Do you want to continue: press y to continue or Press any key to Discontinue: y\n",
      "Enter positive integer: 12345\n",
      "It is a composite\n",
      "Do you want to continue: press y to continue or Press any key to Discontinue: n\n",
      "Goodbye!\n"
     ]
    }
   ],
   "source": [
    "def positive_int_check(inputStr):\n",
    "    booleanCheck = True;\n",
    "    while(booleanCheck):\n",
    "        try:\n",
    "            inp = int(input(inputStr))\n",
    "            if(inp >= 0):\n",
    "                return inp\n",
    "            else:\n",
    "               print('Error: You didn’t enter a positive integer') \n",
    "        except:\n",
    "            print('Error: You didn’t enter integer')\n",
    "            \n",
    "            \n",
    "loopContinue = True;\n",
    "while(loopContinue):\n",
    "    int1 = positive_int_check('Enter positive integer: ')\n",
    "    if(int1 == 0 or int1 == 1):\n",
    "        print('It is neither prime nor composite')\n",
    "    else:\n",
    "        compositeCheck = False;\n",
    "        for i in range(2, int1):\n",
    "            if(int1 % i == 0):\n",
    "                compositeCheck = True;\n",
    "        if(compositeCheck):\n",
    "            print('It is a composite')\n",
    "        else:\n",
    "            print('It is a prime')\n",
    "    str1 = str(input('Do you want to continue: press y to continue or Press any key to Discontinue: '))\n",
    "    if(not(str1 == 'Y' or str1 == 'y')):\n",
    "        loopContinue = False\n",
    "        print('Goodbye!')        "
   ]
  },
  {
   "cell_type": "markdown",
   "id": "b29a5528",
   "metadata": {},
   "source": [
    "## Question 4\n",
    "\n",
    "Logic:\n",
    "1. int_check() function - to get two integers until user provide proper integer.\n",
    "2. SmartDivision(integer1, intger2) function - if the int1%int2 is 0, then the result should be int, so my script will convert the result to int and print the return type to int. Else the result will be float and it will print the result and the return type to float.\n",
    "3. main() function - to get two integers and calling SmartDivision() function.\n",
    "4. Calling main() function at the end."
   ]
  },
  {
   "cell_type": "code",
   "execution_count": 4,
   "id": "8ae57591",
   "metadata": {},
   "outputs": [
    {
     "name": "stdout",
     "output_type": "stream",
     "text": [
      "Enter first number: -10\n",
      "Enter second number: -30\n",
      "Result of Division:  0.3333333333333333\n",
      "Return type:  <class 'float'>\n"
     ]
    }
   ],
   "source": [
    "def int_check(inputStr):\n",
    "    booleanCheck = True;\n",
    "    while(booleanCheck):\n",
    "        try:\n",
    "            inp = int(input(inputStr))\n",
    "            return inp\n",
    "        except:\n",
    "            print('Error: You didn’t enter number')\n",
    "            \n",
    "            \n",
    "def SmartDivision(a, b):\n",
    "    c = a/b\n",
    "    if((a%b == 0)):\n",
    "        print('Result of Division: ', int(c))\n",
    "        print(\"Return type: \", type(int(c)))\n",
    "    else:\n",
    "        print('Result of Division: ', c)\n",
    "        print(\"Return type: \", type(c))\n",
    "\n",
    "    \n",
    "def main():\n",
    "    a = int_check('Enter first number: ')\n",
    "    b = int_check('Enter second number: ')\n",
    "    SmartDivision(a, b)\n",
    "    \n",
    "    \n",
    "main()"
   ]
  },
  {
   "cell_type": "markdown",
   "id": "c960dcef",
   "metadata": {},
   "source": [
    "## Question 5\n",
    "\n",
    "Logic:\n",
    "1. intFloat_check - to get input (int or float) until user provide proper int/float. Currently i'm checking for float either its int or float it will convert into float.\n",
    "2. At the end of each run, the user should be prompted to ask whether they want to continue. press y to continue or any key to discontinue.\n",
    "3. Getting min and max of (x1 and x2) and (y1 and y2) point \n",
    "4. Checking the given x and y is in between (x1 and x2) and (y1 and y2) point. If so return true else false."
   ]
  },
  {
   "cell_type": "code",
   "execution_count": null,
   "id": "c58d353d",
   "metadata": {},
   "outputs": [
    {
     "name": "stdout",
     "output_type": "stream",
     "text": [
      "Enter x1: 10\n",
      "Enter y1: 8\n",
      "Enter x2: 7\n",
      "Enter y2: 6\n",
      "Enter x: 2\n",
      "Enter y: 2\n",
      "False\n"
     ]
    }
   ],
   "source": [
    "def intFloat_check(inputStr):\n",
    "    booleanCheck = True\n",
    "    while(booleanCheck):\n",
    "        try:\n",
    "            inp = float(input(inputStr))\n",
    "            return inp\n",
    "        except:\n",
    "            print('Error: You didn’t enter number')\n",
    "            \n",
    "\n",
    "loopContinue = True\n",
    "while(loopContinue):\n",
    "    x1 = intFloat_check('Enter x1: ')\n",
    "    y1 = intFloat_check('Enter y1: ')\n",
    "    x2 = intFloat_check('Enter x2: ')\n",
    "    y2 = intFloat_check('Enter y2: ')\n",
    "    x = intFloat_check('Enter x: ')\n",
    "    y = intFloat_check('Enter y: ')\n",
    "    \n",
    "    minx = min(x1, x2)\n",
    "    maxx = max(x1, x2)\n",
    "    miny = min(y1, y2)\n",
    "    maxy = max(y1, y2)\n",
    "    \n",
    "    if((x >= minx and x <= maxx) and (y >= miny and y <= maxy)):\n",
    "        print(True)\n",
    "    else:\n",
    "        print(False)\n",
    "    \n",
    "    str1 = str(input('Do you want to continue: press y to continue or Press any key to Discontinue: '))\n",
    "    if(not(str1 == 'Y' or str1 == 'y')):\n",
    "        loopContinue = False\n",
    "        print('Goodbye!')"
   ]
  },
  {
   "cell_type": "code",
   "execution_count": null,
   "id": "b3b36f3a",
   "metadata": {},
   "outputs": [],
   "source": []
  }
 ],
 "metadata": {
  "kernelspec": {
   "display_name": "Python 3 (ipykernel)",
   "language": "python",
   "name": "python3"
  },
  "language_info": {
   "codemirror_mode": {
    "name": "ipython",
    "version": 3
   },
   "file_extension": ".py",
   "mimetype": "text/x-python",
   "name": "python",
   "nbconvert_exporter": "python",
   "pygments_lexer": "ipython3",
   "version": "3.9.7"
  }
 },
 "nbformat": 4,
 "nbformat_minor": 5
}
